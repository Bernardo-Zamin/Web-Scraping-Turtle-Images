{
 "cells": [
  {
   "cell_type": "code",
   "execution_count": 202,
   "metadata": {},
   "outputs": [],
   "source": [
    "import pandas as pd\n",
    "import requests\n",
    "import re\n",
    "import os\n",
    "import matplotlib.pyplot as plt\n",
    "from PIL import Image as PILImage\n",
    "from IPython.display import display, Image\n",
    "from bs4 import BeautifulSoup"
   ]
  },
  {
   "cell_type": "code",
   "execution_count": 203,
   "metadata": {},
   "outputs": [
    {
     "data": {
      "text/plain": [
       "<Response [200]>"
      ]
     },
     "execution_count": 203,
     "metadata": {},
     "output_type": "execute_result"
    }
   ],
   "source": [
    "url = '''http://www.scrapethissite.com/pages/frames/'''\n",
    "response = requests.get(url)\n",
    "response"
   ]
  },
  {
   "cell_type": "code",
   "execution_count": 204,
   "metadata": {},
   "outputs": [
    {
     "data": {
      "text/plain": [
       "<!DOCTYPE html>\n",
       "\n",
       "<html lang=\"en\">\n",
       "<head>\n",
       "<meta charset=\"utf-8\"/>\n",
       "<title>Turtles All the Way Down: Frames &amp; iFrames | Scrape This Site | A public sandbox for learning web scraping</title>\n",
       "<link href=\"/static/images/scraper-icon.png\" rel=\"icon\" type=\"image/png\"/>\n",
       "<meta content=\"width=device-width, initial-scale=1.0\" name=\"viewport\"/>\n",
       "<meta content=\"Some older sites might still use frames to break up thier pages. Modern ones might be using iFrames to expose data. Learn about turtles as you scrape content inside frames.\" name=\"description\"/>\n",
       "<link crossorigin=\"anonymous\" href=\"https://maxcdn.bootstrapcdn.com/bootstrap/3.3.5/css/bootstrap.min.css\" integrity=\"sha256-MfvZlkHCEqatNoGiOXveE8FIwMzZg4W85qfrfIFBfYc= sha512-dTfge/zgoMYpP7QbHy4gWMEGsbsdZeCXz7irItjcC3sPUFtf0kuFbDz/ixG7ArTxmDjLXDmezHubeNikyKGVyQ==\" rel=\"stylesheet\"/>\n",
       "<link href=\"https://fonts.googleapis.com/css?family=Lato:400,700\" rel=\"stylesheet\" type=\"text/css\"/>\n",
       "<link href=\"/static/css/styles.css\" rel=\"stylesheet\" type=\"text/css\"/>\n",
       "<meta content=\"noindex\" name=\"robots\"/>\n",
       "<link href=\"http://lipis.github.io/flag-icon-css/css/flag-icon.css\" rel=\"stylesheet\"/>\n",
       "</head>\n",
       "<body>\n",
       "<nav id=\"site-nav\">\n",
       "<div class=\"container\">\n",
       "<div class=\"col-md-12\">\n",
       "<ul class=\"nav nav-tabs\">\n",
       "<li id=\"nav-homepage\">\n",
       "<a class=\"nav-link hidden-sm hidden-xs\" href=\"/\">\n",
       "<img id=\"nav-logo\" src=\"/static/images/scraper-icon.png\"/>\n",
       "                                Scrape This Site\n",
       "                            </a>\n",
       "</li>\n",
       "<li id=\"nav-sandbox\">\n",
       "<a class=\"nav-link\" href=\"/pages/\">\n",
       "<i class=\"glyphicon glyphicon-console hidden-sm hidden-xs\"></i>\n",
       "                                Sandbox\n",
       "                            </a>\n",
       "</li>\n",
       "<li id=\"nav-lessons\">\n",
       "<a class=\"nav-link\" href=\"/lessons/\">\n",
       "<i class=\"glyphicon glyphicon-education hidden-sm hidden-xs\"></i>\n",
       "                                Lessons\n",
       "                            </a>\n",
       "</li>\n",
       "<li id=\"nav-faq\">\n",
       "<a class=\"nav-link\" href=\"/faq/\">\n",
       "<i class=\"glyphicon glyphicon-flag hidden-sm hidden-xs\"></i>\n",
       "                                FAQ\n",
       "                            </a>\n",
       "</li>\n",
       "<li class=\"pull-right\" id=\"nav-login\">\n",
       "<a class=\"nav-link\" href=\"/login/\">\n",
       "                                Login\n",
       "                            </a>\n",
       "</li>\n",
       "</ul>\n",
       "</div>\n",
       "</div>\n",
       "</nav>\n",
       "<script type=\"text/javascript\">\n",
       "            var path = document.location.pathname;\n",
       "            var tab = undefined;\n",
       "            if (path === \"/\"){\n",
       "                tab = document.querySelector(\"#nav-homepage\");\n",
       "            } else if (path.indexOf(\"/faq/\") === 0){\n",
       "                tab = document.querySelector(\"#nav-faq\");\n",
       "            } else if (path.indexOf(\"/lessons/\") === 0){\n",
       "                tab = document.querySelector(\"#nav-lessons\");\n",
       "            } else if (path.indexOf(\"/pages/\") === 0) {\n",
       "                tab = document.querySelector(\"#nav-sandbox\");\n",
       "            } else if (path.indexOf(\"/login/\") === 0) {\n",
       "                tab = document.querySelector(\"#nav-login\");\n",
       "            }\n",
       "            tab.classList.add(\"active\")\n",
       "        </script>\n",
       "<div id=\"page\">\n",
       "<section id=\"frames\">\n",
       "<div class=\"container\">\n",
       "<div class=\"row\">\n",
       "<div class=\"col-md-12\">\n",
       "<h1>\n",
       "                            Turtles All the Way Down: Frames &amp; iFrames\n",
       "                            <small>14 items</small>\n",
       "</h1>\n",
       "<hr/>\n",
       "</div>\n",
       "</div>\n",
       "<div class=\"row\">\n",
       "<div class=\"col-md-12\">\n",
       "<p class=\"lead\">\n",
       "                            Some older sites might still use frames to break up thier pages. Modern ones might be using iFrames to expose data. Learn about turtles as you scrape content inside frames.\n",
       "                            See if you can find the 'real' URL that our content is being loaded from, and scrape that page. Also practice interating over a list of items and loading their detail pages to get more information about each one.\n",
       "                        </p>\n",
       "<hr/>\n",
       "</div>\n",
       "</div>\n",
       "<div class=\"row\">\n",
       "<div class=\"col-md-6\">\n",
       "<p>\n",
       "<i class=\"glyphicon glyphicon-education\"></i> There are <a href=\"/lessons/\">3 video lessons</a> that show you how to scrape this page.\n",
       "                        </p>\n",
       "<hr/>\n",
       "</div>\n",
       "<div class=\"col-md-6 text-right\">\n",
       "<p>\n",
       "                            \n",
       "                                Data via\n",
       "                                <a class=\"data-attribution\" href=\"https://en.wikipedia.org/wiki/List_of_Testudines_families\" target=\"_blank\">https://en.wikipedia.org/wiki/List_of_Testudines_families</a>\n",
       "</p>\n",
       "<hr/>\n",
       "</div>\n",
       "</div>\n",
       "<div class=\"row\">\n",
       "<div class=\"col-md-12\">\n",
       "<frameset rows=\"10%,80%,10%\">\n",
       "<frame name=\"top\" src=\"/pages/frames/?frame=top\"/>\n",
       "<frame name=\"main\" src=\"/pages/frames/?frame=main\"/>\n",
       "<frame name=\"bottom\" src=\"/pages/frames/frame=bottom\"/>\n",
       "<noframes>\n",
       "                                        Your browser does not support frames.\n",
       "                                </noframes>\n",
       "</frameset>\n",
       "<iframe id=\"iframe\" src=\"/pages/frames/?frame=i\">\n",
       "                                Your browser does not support iframes\n",
       "                            </iframe>\n",
       "</div><!--.col-->\n",
       "</div><!--.row-->\n",
       "</div><!--.container-->\n",
       "</section>\n",
       "</div><!--#page-->\n",
       "<section id=\"footer\">\n",
       "<div class=\"container\">\n",
       "<div class=\"row\">\n",
       "<div class=\"col-md-12 text-center text-muted\">\n",
       "                    Lessons and Videos © Hartley Brody 2023\n",
       "                </div><!--.col-->\n",
       "</div><!--.row-->\n",
       "</div><!--.container-->\n",
       "</section>\n",
       "</body>\n",
       "<script src=\"https://ajax.googleapis.com/ajax/libs/jquery/1.11.3/jquery.min.js\"></script>\n",
       "<script crossorigin=\"anonymous\" integrity=\"sha256-Sk3nkD6mLTMOF0EOpNtsIry+s1CsaqQC1rVLTAy+0yc= sha512-K1qjQ+NcF2TYO/eI3M6v8EiNYZfA95pQumfvcVrTHtwQVDG+aHRqLi/ETn2uB+1JqwYqVG3LIvdm9lj6imS/pQ==\" src=\"https://maxcdn.bootstrapcdn.com/bootstrap/3.3.5/js/bootstrap.min.js\"></script>\n",
       "<script src=\"https://cdnjs.cloudflare.com/ajax/libs/pnotify/2.1.0/pnotify.core.min.js\"></script>\n",
       "<link href=\"https://cdnjs.cloudflare.com/ajax/libs/pnotify/2.1.0/pnotify.core.min.css\" rel=\"stylesheet\" type=\"text/css\"/>\n",
       "<!-- pnotify messages -->\n",
       "<script type=\"text/javascript\">\n",
       "    \n",
       "    PNotify.prototype.options.styling = \"bootstrap3\";\n",
       "    $(function(){\n",
       "      \n",
       "    });\n",
       "    \n",
       "\n",
       "    $(function () {\n",
       "      $('[data-toggle=\"tooltip\"]').tooltip()\n",
       "    })\n",
       "  </script>\n",
       "<!-- golbal video controls -->\n",
       "<script type=\"text/javascript\">\n",
       "    $(\"video\").hover(function() {\n",
       "        $(this).prop(\"controls\", true);\n",
       "    }, function() {\n",
       "        $(this).prop(\"controls\", false);\n",
       "    });\n",
       "\n",
       "    $(\"video\").click(function() {\n",
       "        if( this.paused){\n",
       "            this.play();\n",
       "        }\n",
       "        else {\n",
       "            this.pause();\n",
       "        }\n",
       "    });\n",
       "    </script>\n",
       "<!-- insert google analytics here -->\n",
       "<script>\n",
       "    (function(i,s,o,g,r,a,m){i['GoogleAnalyticsObject']=r;i[r]=i[r]||function(){\n",
       "    (i[r].q=i[r].q||[]).push(arguments)},i[r].l=1*new Date();a=s.createElement(o),\n",
       "    m=s.getElementsByTagName(o)[0];a.async=1;a.src=g;m.parentNode.insertBefore(a,m)\n",
       "    })(window,document,'script','https://www.google-analytics.com/analytics.js','ga');\n",
       "\n",
       "    ga('create', 'UA-41551755-8', 'auto');\n",
       "    ga('send', 'pageview');\n",
       "  </script>\n",
       "<!-- Facebook Pixel Code -->\n",
       "<script>\n",
       "  !function(f,b,e,v,n,t,s){if(f.fbq)return;n=f.fbq=function(){n.callMethod?\n",
       "  n.callMethod.apply(n,arguments):n.queue.push(arguments)};if(!f._fbq)f._fbq=n;\n",
       "  n.push=n;n.loaded=!0;n.version='2.0';n.queue=[];t=b.createElement(e);t.async=!0;\n",
       "  t.src=v;s=b.getElementsByTagName(e)[0];s.parentNode.insertBefore(t,s)}(window,\n",
       "  document,'script','https://connect.facebook.net/en_US/fbevents.js');\n",
       "\n",
       "  fbq('init', '764287443701341');\n",
       "  fbq('track', \"PageView\");</script>\n",
       "<noscript><img height=\"1\" src=\"https://www.facebook.com/tr?id=764287443701341&amp;ev=PageView&amp;noscript=1\" style=\"display:none\" width=\"1\"/></noscript>\n",
       "<!-- End Facebook Pixel Code -->\n",
       "<!-- Google Code for Remarketing Tag -->\n",
       "<script type=\"text/javascript\">\n",
       "    /* <![CDATA[ */\n",
       "    var google_conversion_id = 950945448;\n",
       "    var google_custom_params = window.google_tag_params;\n",
       "    var google_remarketing_only = true;\n",
       "    /* ]]> */\n",
       "    </script>\n",
       "<script src=\"//www.googleadservices.com/pagead/conversion.js\" type=\"text/javascript\">\n",
       "</script>\n",
       "<noscript>\n",
       "<div style=\"display:inline;\">\n",
       "<img alt=\"\" height=\"1\" src=\"//googleads.g.doubleclick.net/pagead/viewthroughconversion/950945448/?guid=ON&amp;script=0\" style=\"border-style:none;\" width=\"1\"/>\n",
       "</div>\n",
       "</noscript>\n",
       "<!-- Global site tag (gtag.js) - Google AdWords: 950945448 -->\n",
       "<script async=\"\" src=\"https://www.googletagmanager.com/gtag/js?id=AW-950945448\"></script>\n",
       "<script>\n",
       "   window.dataLayer = window.dataLayer || [];\n",
       "   function gtag(){dataLayer.push(arguments);}\n",
       "   gtag('js', new Date());\n",
       "\n",
       "   gtag('config', 'AW-950945448');\n",
       "  </script>\n",
       "</html>"
      ]
     },
     "execution_count": 204,
     "metadata": {},
     "output_type": "execute_result"
    }
   ],
   "source": [
    "soup = BeautifulSoup(response.text, \"html.parser\")\n",
    "soup"
   ]
  },
  {
   "cell_type": "code",
   "execution_count": 205,
   "metadata": {},
   "outputs": [
    {
     "data": {
      "text/plain": [
       "<Response [200]>"
      ]
     },
     "execution_count": 205,
     "metadata": {},
     "output_type": "execute_result"
    }
   ],
   "source": [
    "iframe = soup.find(\"iframe\")\n",
    "iframe_url = iframe['src']\n",
    "iframe_url\n",
    "iframe_response = requests.get(\"http://www.scrapethissite.com\"+iframe_url)\n",
    "iframe_response"
   ]
  },
  {
   "cell_type": "code",
   "execution_count": 206,
   "metadata": {},
   "outputs": [
    {
     "name": "stdout",
     "output_type": "stream",
     "text": [
      "<!DOCTYPE html>\n",
      "<html lang=\"en\">\n",
      " <head>\n",
      "  <meta charset=\"utf-8\"/>\n",
      "  <title>\n",
      "   Turtles All the Way Down: Frames &amp; iFrames | Scrape This Site | A public sandbox for learning web scraping\n",
      "  </title>\n",
      "  <link href=\"/static/images/scraper-icon.png\" rel=\"icon\" type=\"image/png\"/>\n",
      "  <meta content=\"width=device-width, initial-scale=1.0\" name=\"viewport\"/>\n",
      "  <meta content=\"Some older sites might still use frames to break up thier pages. Modern ones might be using iFrames to expose data. Learn about turtles as you scrape content inside frames.\" name=\"description\"/>\n",
      "  <link crossorigin=\"anonymous\" href=\"https://maxcdn.bootstrapcdn.com/bootstrap/3.3.5/css/bootstrap.min.css\" integrity=\"sha256-MfvZlkHCEqatNoGiOXveE8FIwMzZg4W85qfrfIFBfYc= sha512-dTfge/zgoMYpP7QbHy4gWMEGsbsdZeCXz7irItjcC3sPUFtf0kuFbDz/ixG7ArTxmDjLXDmezHubeNikyKGVyQ==\" rel=\"stylesheet\"/>\n",
      "  <link href=\"https://fonts.googleapis.com/css?family=Lato:400,700\" rel=\"stylesheet\" type=\"text/css\"/>\n",
      "  <link href=\"/static/css/styles.css\" rel=\"stylesheet\" type=\"text/css\"/>\n",
      "  <meta content=\"noindex\" name=\"robots\"/>\n",
      "  <link href=\"http://lipis.github.io/flag-icon-css/css/flag-icon.css\" rel=\"stylesheet\"/>\n",
      " </head>\n",
      " <body>\n",
      "  <nav id=\"site-nav\">\n",
      "   <div class=\"container\">\n",
      "    <div class=\"col-md-12\">\n",
      "     <ul class=\"nav nav-tabs\">\n",
      "      <li id=\"nav-homepage\">\n",
      "       <a class=\"nav-link hidden-sm hidden-xs\" href=\"/\">\n",
      "        <img id=\"nav-logo\" src=\"/static/images/scraper-icon.png\"/>\n",
      "        Scrape This Site\n",
      "       </a>\n",
      "      </li>\n",
      "      <li id=\"nav-sandbox\">\n",
      "       <a class=\"nav-link\" href=\"/pages/\">\n",
      "        <i class=\"glyphicon glyphicon-console hidden-sm hidden-xs\">\n",
      "        </i>\n",
      "        Sandbox\n",
      "       </a>\n",
      "      </li>\n",
      "      <li id=\"nav-lessons\">\n",
      "       <a class=\"nav-link\" href=\"/lessons/\">\n",
      "        <i class=\"glyphicon glyphicon-education hidden-sm hidden-xs\">\n",
      "        </i>\n",
      "        Lessons\n",
      "       </a>\n",
      "      </li>\n",
      "      <li id=\"nav-faq\">\n",
      "       <a class=\"nav-link\" href=\"/faq/\">\n",
      "        <i class=\"glyphicon glyphicon-flag hidden-sm hidden-xs\">\n",
      "        </i>\n",
      "        FAQ\n",
      "       </a>\n",
      "      </li>\n",
      "      <li class=\"pull-right\" id=\"nav-login\">\n",
      "       <a class=\"nav-link\" href=\"/login/\">\n",
      "        Login\n",
      "       </a>\n",
      "      </li>\n",
      "     </ul>\n",
      "    </div>\n",
      "   </div>\n",
      "  </nav>\n",
      "  <script type=\"text/javascript\">\n",
      "   var path = document.location.pathname;\n",
      "            var tab = undefined;\n",
      "            if (path === \"/\"){\n",
      "                tab = document.querySelector(\"#nav-homepage\");\n",
      "            } else if (path.indexOf(\"/faq/\") === 0){\n",
      "                tab = document.querySelector(\"#nav-faq\");\n",
      "            } else if (path.indexOf(\"/lessons/\") === 0){\n",
      "                tab = document.querySelector(\"#nav-lessons\");\n",
      "            } else if (path.indexOf(\"/pages/\") === 0) {\n",
      "                tab = document.querySelector(\"#nav-sandbox\");\n",
      "            } else if (path.indexOf(\"/login/\") === 0) {\n",
      "                tab = document.querySelector(\"#nav-login\");\n",
      "            }\n",
      "            tab.classList.add(\"active\")\n",
      "  </script>\n",
      "  <style type=\"text/css\">\n",
      "   #footer, #site-nav {\n",
      "                display: none;\n",
      "            }\n",
      "  </style>\n",
      "  <div class=\"row\">\n",
      "   <div class=\"col-md-4 turtle-family-card\">\n",
      "    <img class=\"turtle-image\" src=\"https://upload.wikimedia.org/wikipedia/commons/thumb/b/b3/Carettochelys_insculpta.jpg/200px-Carettochelys_insculpta.jpg\">\n",
      "     <h3 class=\"family-name\">\n",
      "      Carettochelyidae\n",
      "     </h3>\n",
      "     <a class=\"btn btn-default btn-xs\" href=\"/pages/frames/?frame=i&amp;family=Carettochelyidae\">\n",
      "      Learn more →\n",
      "     </a>\n",
      "    </img>\n",
      "   </div>\n",
      "   <div class=\"col-md-4 turtle-family-card\">\n",
      "    <img class=\"turtle-image\" src=\"https://upload.wikimedia.org/wikipedia/commons/thumb/7/71/GreenSeaTurtle-2.jpg/200px-GreenSeaTurtle-2.jpg\"/>\n",
      "    <h3 class=\"family-name\">\n",
      "     Cheloniidae\n",
      "    </h3>\n",
      "    <a class=\"btn btn-default btn-xs\" href=\"/pages/frames/?frame=i&amp;family=Cheloniidae\">\n",
      "     Learn more →\n",
      "    </a>\n",
      "   </div>\n",
      "   <div class=\"col-md-4 turtle-family-card\">\n",
      "    <img class=\"turtle-image\" src=\"https://upload.wikimedia.org/wikipedia/commons/thumb/8/88/Alligator_snapping_turtle.jpg/200px-Alligator_snapping_turtle.jpg\"/>\n",
      "    <h3 class=\"family-name\">\n",
      "     Chelydridae\n",
      "    </h3>\n",
      "    <a class=\"btn btn-default btn-xs\" href=\"/pages/frames/?frame=i&amp;family=Chelydridae\">\n",
      "     Learn more →\n",
      "    </a>\n",
      "   </div>\n",
      "  </div>\n",
      "  <!--.row-->\n",
      "  <div class=\"row\">\n",
      "   <div class=\"col-md-4 turtle-family-card\">\n",
      "    <img class=\"turtle-image\" src=\"https://upload.wikimedia.org/wikipedia/commons/thumb/8/8a/Dermatemydidae.JPG/200px-Dermatemydidae.JPG\"/>\n",
      "    <h3 class=\"family-name\">\n",
      "     Dermatemydidae\n",
      "    </h3>\n",
      "    <a class=\"btn btn-default btn-xs\" href=\"/pages/frames/?frame=i&amp;family=Dermatemydidae\">\n",
      "     Learn more →\n",
      "    </a>\n",
      "   </div>\n",
      "   <div class=\"col-md-4 turtle-family-card\">\n",
      "    <img class=\"turtle-image\" src=\"https://upload.wikimedia.org/wikipedia/commons/thumb/9/9b/LeatherbackTurtle.jpg/200px-LeatherbackTurtle.jpg\"/>\n",
      "    <h3 class=\"family-name\">\n",
      "     Dermochelyidae\n",
      "    </h3>\n",
      "    <a class=\"btn btn-default btn-xs\" href=\"/pages/frames/?frame=i&amp;family=Dermochelyidae\">\n",
      "     Learn more →\n",
      "    </a>\n",
      "   </div>\n",
      "   <div class=\"col-md-4 turtle-family-card\">\n",
      "    <img class=\"turtle-image\" src=\"https://upload.wikimedia.org/wikipedia/commons/thumb/4/45/Tortoise1_cepolina.jpg/200px-Tortoise1_cepolina.jpg\"/>\n",
      "    <h3 class=\"family-name\">\n",
      "     Emydidae\n",
      "    </h3>\n",
      "    <a class=\"btn btn-default btn-xs\" href=\"/pages/frames/?frame=i&amp;family=Emydidae\">\n",
      "     Learn more →\n",
      "    </a>\n",
      "   </div>\n",
      "  </div>\n",
      "  <!--.row-->\n",
      "  <div class=\"row\">\n",
      "   <div class=\"col-md-4 turtle-family-card\">\n",
      "    <img class=\"turtle-image\" src=\"https://upload.wikimedia.org/wikipedia/commons/thumb/f/f3/Cuora_amboinensis_kamaroma_j.jpg/200px-Cuora_amboinensis_kamaroma_j.jpg\"/>\n",
      "    <h3 class=\"family-name\">\n",
      "     Geoemydidae\n",
      "    </h3>\n",
      "    <a class=\"btn btn-default btn-xs\" href=\"/pages/frames/?frame=i&amp;family=Geoemydidae\">\n",
      "     Learn more →\n",
      "    </a>\n",
      "   </div>\n",
      "   <div class=\"col-md-4 turtle-family-card\">\n",
      "    <img class=\"turtle-image\" src=\"https://upload.wikimedia.org/wikipedia/commons/thumb/5/5e/Sternotherus_odoratus.jpg/200px-Sternotherus_odoratus.jpg\"/>\n",
      "    <h3 class=\"family-name\">\n",
      "     Kinosternidae\n",
      "    </h3>\n",
      "    <a class=\"btn btn-default btn-xs\" href=\"/pages/frames/?frame=i&amp;family=Kinosternidae\">\n",
      "     Learn more →\n",
      "    </a>\n",
      "   </div>\n",
      "   <div class=\"col-md-4 turtle-family-card\">\n",
      "    <img class=\"turtle-image\" src=\"https://upload.wikimedia.org/wikipedia/commons/thumb/7/79/Zolw_wielkoglowy.jpg/200px-Zolw_wielkoglowy.jpg\"/>\n",
      "    <h3 class=\"family-name\">\n",
      "     Platysternidae\n",
      "    </h3>\n",
      "    <a class=\"btn btn-default btn-xs\" href=\"/pages/frames/?frame=i&amp;family=Platysternidae\">\n",
      "     Learn more →\n",
      "    </a>\n",
      "   </div>\n",
      "  </div>\n",
      "  <!--.row-->\n",
      "  <div class=\"row\">\n",
      "   <div class=\"col-md-4 turtle-family-card\">\n",
      "    <img class=\"turtle-image\" src=\"https://upload.wikimedia.org/wikipedia/commons/thumb/4/41/Tortoise.aldabra.750pix.jpg/200px-Tortoise.aldabra.750pix.jpg\"/>\n",
      "    <h3 class=\"family-name\">\n",
      "     Testudinidae\n",
      "    </h3>\n",
      "    <a class=\"btn btn-default btn-xs\" href=\"/pages/frames/?frame=i&amp;family=Testudinidae\">\n",
      "     Learn more →\n",
      "    </a>\n",
      "   </div>\n",
      "   <div class=\"col-md-4 turtle-family-card\">\n",
      "    <img class=\"turtle-image\" src=\"https://upload.wikimedia.org/wikipedia/commons/thumb/3/39/Apalone_spinifera.jpg/200px-Apalone_spinifera.jpg\"/>\n",
      "    <h3 class=\"family-name\">\n",
      "     Trionychidae\n",
      "    </h3>\n",
      "    <a class=\"btn btn-default btn-xs\" href=\"/pages/frames/?frame=i&amp;family=Trionychidae\">\n",
      "     Learn more →\n",
      "    </a>\n",
      "   </div>\n",
      "   <div class=\"col-md-4 turtle-family-card\">\n",
      "    <img class=\"turtle-image\" src=\"https://upload.wikimedia.org/wikipedia/commons/thumb/e/ec/Eastern_long_neck_tortoise_-_chelodina_longicollis.jpg/200px-Eastern_long_neck_tortoise_-_chelodina_longicollis.jpg\"/>\n",
      "    <h3 class=\"family-name\">\n",
      "     Chelidae\n",
      "    </h3>\n",
      "    <a class=\"btn btn-default btn-xs\" href=\"/pages/frames/?frame=i&amp;family=Chelidae\">\n",
      "     Learn more →\n",
      "    </a>\n",
      "   </div>\n",
      "  </div>\n",
      "  <!--.row-->\n",
      "  <div class=\"row\">\n",
      "   <div class=\"col-md-4 turtle-family-card\">\n",
      "    <img class=\"turtle-image\" src=\"https://upload.wikimedia.org/wikipedia/commons/thumb/8/86/Pelomedusa_subrufa.JPG/200px-Pelomedusa_subrufa.JPG\"/>\n",
      "    <h3 class=\"family-name\">\n",
      "     Pelomedusidae\n",
      "    </h3>\n",
      "    <a class=\"btn btn-default btn-xs\" href=\"/pages/frames/?frame=i&amp;family=Pelomedusidae\">\n",
      "     Learn more →\n",
      "    </a>\n",
      "   </div>\n",
      "   <div class=\"col-md-4 turtle-family-card\">\n",
      "    <img class=\"turtle-image\" src=\"https://upload.wikimedia.org/wikipedia/commons/thumb/5/5b/Erymnochelys_madagascariensis.jpg/200px-Erymnochelys_madagascariensis.jpg\"/>\n",
      "    <h3 class=\"family-name\">\n",
      "     Podocnemididae\n",
      "    </h3>\n",
      "    <a class=\"btn btn-default btn-xs\" href=\"/pages/frames/?frame=i&amp;family=Podocnemididae\">\n",
      "     Learn more →\n",
      "    </a>\n",
      "   </div>\n",
      "  </div>\n",
      "  <!--.row-->\n",
      "  <section id=\"footer\">\n",
      "   <div class=\"container\">\n",
      "    <div class=\"row\">\n",
      "     <div class=\"col-md-12 text-center text-muted\">\n",
      "      Lessons and Videos © Hartley Brody 2023\n",
      "     </div>\n",
      "     <!--.col-->\n",
      "    </div>\n",
      "    <!--.row-->\n",
      "   </div>\n",
      "   <!--.container-->\n",
      "  </section>\n",
      " </body>\n",
      " <script src=\"https://ajax.googleapis.com/ajax/libs/jquery/1.11.3/jquery.min.js\">\n",
      " </script>\n",
      " <script crossorigin=\"anonymous\" integrity=\"sha256-Sk3nkD6mLTMOF0EOpNtsIry+s1CsaqQC1rVLTAy+0yc= sha512-K1qjQ+NcF2TYO/eI3M6v8EiNYZfA95pQumfvcVrTHtwQVDG+aHRqLi/ETn2uB+1JqwYqVG3LIvdm9lj6imS/pQ==\" src=\"https://maxcdn.bootstrapcdn.com/bootstrap/3.3.5/js/bootstrap.min.js\">\n",
      " </script>\n",
      " <script src=\"https://cdnjs.cloudflare.com/ajax/libs/pnotify/2.1.0/pnotify.core.min.js\">\n",
      " </script>\n",
      " <link href=\"https://cdnjs.cloudflare.com/ajax/libs/pnotify/2.1.0/pnotify.core.min.css\" rel=\"stylesheet\" type=\"text/css\"/>\n",
      " <!-- pnotify messages -->\n",
      " <script type=\"text/javascript\">\n",
      "  PNotify.prototype.options.styling = \"bootstrap3\";\n",
      "    $(function(){\n",
      "      \n",
      "    });\n",
      "    \n",
      "\n",
      "    $(function () {\n",
      "      $('[data-toggle=\"tooltip\"]').tooltip()\n",
      "    })\n",
      " </script>\n",
      " <!-- golbal video controls -->\n",
      " <script type=\"text/javascript\">\n",
      "  $(\"video\").hover(function() {\n",
      "        $(this).prop(\"controls\", true);\n",
      "    }, function() {\n",
      "        $(this).prop(\"controls\", false);\n",
      "    });\n",
      "\n",
      "    $(\"video\").click(function() {\n",
      "        if( this.paused){\n",
      "            this.play();\n",
      "        }\n",
      "        else {\n",
      "            this.pause();\n",
      "        }\n",
      "    });\n",
      " </script>\n",
      " <!-- insert google analytics here -->\n",
      " <script>\n",
      "  (function(i,s,o,g,r,a,m){i['GoogleAnalyticsObject']=r;i[r]=i[r]||function(){\n",
      "    (i[r].q=i[r].q||[]).push(arguments)},i[r].l=1*new Date();a=s.createElement(o),\n",
      "    m=s.getElementsByTagName(o)[0];a.async=1;a.src=g;m.parentNode.insertBefore(a,m)\n",
      "    })(window,document,'script','https://www.google-analytics.com/analytics.js','ga');\n",
      "\n",
      "    ga('create', 'UA-41551755-8', 'auto');\n",
      "    ga('send', 'pageview');\n",
      " </script>\n",
      " <!-- Facebook Pixel Code -->\n",
      " <script>\n",
      "  !function(f,b,e,v,n,t,s){if(f.fbq)return;n=f.fbq=function(){n.callMethod?\n",
      "  n.callMethod.apply(n,arguments):n.queue.push(arguments)};if(!f._fbq)f._fbq=n;\n",
      "  n.push=n;n.loaded=!0;n.version='2.0';n.queue=[];t=b.createElement(e);t.async=!0;\n",
      "  t.src=v;s=b.getElementsByTagName(e)[0];s.parentNode.insertBefore(t,s)}(window,\n",
      "  document,'script','https://connect.facebook.net/en_US/fbevents.js');\n",
      "\n",
      "  fbq('init', '764287443701341');\n",
      "  fbq('track', \"PageView\");\n",
      " </script>\n",
      " <noscript>\n",
      "  <img height=\"1\" src=\"https://www.facebook.com/tr?id=764287443701341&amp;ev=PageView&amp;noscript=1\" style=\"display:none\" width=\"1\"/>\n",
      " </noscript>\n",
      " <!-- End Facebook Pixel Code -->\n",
      " <!-- Google Code for Remarketing Tag -->\n",
      " <script type=\"text/javascript\">\n",
      "  /* <![CDATA[ */\n",
      "    var google_conversion_id = 950945448;\n",
      "    var google_custom_params = window.google_tag_params;\n",
      "    var google_remarketing_only = true;\n",
      "    /* ]]> */\n",
      " </script>\n",
      " <script src=\"//www.googleadservices.com/pagead/conversion.js\" type=\"text/javascript\">\n",
      " </script>\n",
      " <noscript>\n",
      "  <div style=\"display:inline;\">\n",
      "   <img alt=\"\" height=\"1\" src=\"//googleads.g.doubleclick.net/pagead/viewthroughconversion/950945448/?guid=ON&amp;script=0\" style=\"border-style:none;\" width=\"1\"/>\n",
      "  </div>\n",
      " </noscript>\n",
      " <!-- Global site tag (gtag.js) - Google AdWords: 950945448 -->\n",
      " <script async=\"\" src=\"https://www.googletagmanager.com/gtag/js?id=AW-950945448\">\n",
      " </script>\n",
      " <script>\n",
      "  window.dataLayer = window.dataLayer || [];\n",
      "   function gtag(){dataLayer.push(arguments);}\n",
      "   gtag('js', new Date());\n",
      "\n",
      "   gtag('config', 'AW-950945448');\n",
      " </script>\n",
      "</html>\n",
      "\n"
     ]
    }
   ],
   "source": [
    "iframe_soup = BeautifulSoup(iframe_response.content, 'html.parser')\n",
    "print(iframe_soup.prettify())"
   ]
  },
  {
   "cell_type": "code",
   "execution_count": 207,
   "metadata": {},
   "outputs": [
    {
     "data": {
      "text/plain": [
       "['https://upload.wikimedia.org/wikipedia/commons/thumb/b/b3/Carettochelys_insculpta.jpg/200px-Carettochelys_insculpta.jpg',\n",
       " 'https://upload.wikimedia.org/wikipedia/commons/thumb/7/71/GreenSeaTurtle-2.jpg/200px-GreenSeaTurtle-2.jpg',\n",
       " 'https://upload.wikimedia.org/wikipedia/commons/thumb/8/88/Alligator_snapping_turtle.jpg/200px-Alligator_snapping_turtle.jpg',\n",
       " 'https://upload.wikimedia.org/wikipedia/commons/thumb/8/8a/Dermatemydidae.JPG/200px-Dermatemydidae.JPG',\n",
       " 'https://upload.wikimedia.org/wikipedia/commons/thumb/9/9b/LeatherbackTurtle.jpg/200px-LeatherbackTurtle.jpg',\n",
       " 'https://upload.wikimedia.org/wikipedia/commons/thumb/4/45/Tortoise1_cepolina.jpg/200px-Tortoise1_cepolina.jpg',\n",
       " 'https://upload.wikimedia.org/wikipedia/commons/thumb/f/f3/Cuora_amboinensis_kamaroma_j.jpg/200px-Cuora_amboinensis_kamaroma_j.jpg',\n",
       " 'https://upload.wikimedia.org/wikipedia/commons/thumb/5/5e/Sternotherus_odoratus.jpg/200px-Sternotherus_odoratus.jpg',\n",
       " 'https://upload.wikimedia.org/wikipedia/commons/thumb/7/79/Zolw_wielkoglowy.jpg/200px-Zolw_wielkoglowy.jpg',\n",
       " 'https://upload.wikimedia.org/wikipedia/commons/thumb/4/41/Tortoise.aldabra.750pix.jpg/200px-Tortoise.aldabra.750pix.jpg',\n",
       " 'https://upload.wikimedia.org/wikipedia/commons/thumb/3/39/Apalone_spinifera.jpg/200px-Apalone_spinifera.jpg',\n",
       " 'https://upload.wikimedia.org/wikipedia/commons/thumb/e/ec/Eastern_long_neck_tortoise_-_chelodina_longicollis.jpg/200px-Eastern_long_neck_tortoise_-_chelodina_longicollis.jpg',\n",
       " 'https://upload.wikimedia.org/wikipedia/commons/thumb/8/86/Pelomedusa_subrufa.JPG/200px-Pelomedusa_subrufa.JPG',\n",
       " 'https://upload.wikimedia.org/wikipedia/commons/thumb/5/5b/Erymnochelys_madagascariensis.jpg/200px-Erymnochelys_madagascariensis.jpg']"
      ]
     },
     "execution_count": 207,
     "metadata": {},
     "output_type": "execute_result"
    }
   ],
   "source": [
    "turtles = iframe_soup.find_all('img', class_=\"turtle-image\")\n",
    "turtle_list = []\n",
    "\n",
    "for turtle in turtles:\n",
    "    turtle_list.append(turtle['src'])\n",
    "turtle_list"
   ]
  },
  {
   "cell_type": "markdown",
   "metadata": {},
   "source": [
    "## All Turtle Images"
   ]
  },
  {
   "cell_type": "code",
   "execution_count": 208,
   "metadata": {},
   "outputs": [
    {
     "data": {
      "text/html": [
       "<img src=\"https://upload.wikimedia.org/wikipedia/commons/thumb/b/b3/Carettochelys_insculpta.jpg/200px-Carettochelys_insculpta.jpg\"/>"
      ],
      "text/plain": [
       "<IPython.core.display.Image object>"
      ]
     },
     "metadata": {},
     "output_type": "display_data"
    },
    {
     "data": {
      "text/html": [
       "<img src=\"https://upload.wikimedia.org/wikipedia/commons/thumb/7/71/GreenSeaTurtle-2.jpg/200px-GreenSeaTurtle-2.jpg\"/>"
      ],
      "text/plain": [
       "<IPython.core.display.Image object>"
      ]
     },
     "metadata": {},
     "output_type": "display_data"
    },
    {
     "data": {
      "text/html": [
       "<img src=\"https://upload.wikimedia.org/wikipedia/commons/thumb/8/88/Alligator_snapping_turtle.jpg/200px-Alligator_snapping_turtle.jpg\"/>"
      ],
      "text/plain": [
       "<IPython.core.display.Image object>"
      ]
     },
     "metadata": {},
     "output_type": "display_data"
    },
    {
     "data": {
      "text/html": [
       "<img src=\"https://upload.wikimedia.org/wikipedia/commons/thumb/8/8a/Dermatemydidae.JPG/200px-Dermatemydidae.JPG\"/>"
      ],
      "text/plain": [
       "<IPython.core.display.Image object>"
      ]
     },
     "metadata": {},
     "output_type": "display_data"
    },
    {
     "data": {
      "text/html": [
       "<img src=\"https://upload.wikimedia.org/wikipedia/commons/thumb/9/9b/LeatherbackTurtle.jpg/200px-LeatherbackTurtle.jpg\"/>"
      ],
      "text/plain": [
       "<IPython.core.display.Image object>"
      ]
     },
     "metadata": {},
     "output_type": "display_data"
    },
    {
     "data": {
      "text/html": [
       "<img src=\"https://upload.wikimedia.org/wikipedia/commons/thumb/4/45/Tortoise1_cepolina.jpg/200px-Tortoise1_cepolina.jpg\"/>"
      ],
      "text/plain": [
       "<IPython.core.display.Image object>"
      ]
     },
     "metadata": {},
     "output_type": "display_data"
    },
    {
     "data": {
      "text/html": [
       "<img src=\"https://upload.wikimedia.org/wikipedia/commons/thumb/f/f3/Cuora_amboinensis_kamaroma_j.jpg/200px-Cuora_amboinensis_kamaroma_j.jpg\"/>"
      ],
      "text/plain": [
       "<IPython.core.display.Image object>"
      ]
     },
     "metadata": {},
     "output_type": "display_data"
    },
    {
     "data": {
      "text/html": [
       "<img src=\"https://upload.wikimedia.org/wikipedia/commons/thumb/5/5e/Sternotherus_odoratus.jpg/200px-Sternotherus_odoratus.jpg\"/>"
      ],
      "text/plain": [
       "<IPython.core.display.Image object>"
      ]
     },
     "metadata": {},
     "output_type": "display_data"
    },
    {
     "data": {
      "text/html": [
       "<img src=\"https://upload.wikimedia.org/wikipedia/commons/thumb/7/79/Zolw_wielkoglowy.jpg/200px-Zolw_wielkoglowy.jpg\"/>"
      ],
      "text/plain": [
       "<IPython.core.display.Image object>"
      ]
     },
     "metadata": {},
     "output_type": "display_data"
    },
    {
     "data": {
      "text/html": [
       "<img src=\"https://upload.wikimedia.org/wikipedia/commons/thumb/4/41/Tortoise.aldabra.750pix.jpg/200px-Tortoise.aldabra.750pix.jpg\"/>"
      ],
      "text/plain": [
       "<IPython.core.display.Image object>"
      ]
     },
     "metadata": {},
     "output_type": "display_data"
    },
    {
     "data": {
      "text/html": [
       "<img src=\"https://upload.wikimedia.org/wikipedia/commons/thumb/3/39/Apalone_spinifera.jpg/200px-Apalone_spinifera.jpg\"/>"
      ],
      "text/plain": [
       "<IPython.core.display.Image object>"
      ]
     },
     "metadata": {},
     "output_type": "display_data"
    },
    {
     "data": {
      "text/html": [
       "<img src=\"https://upload.wikimedia.org/wikipedia/commons/thumb/e/ec/Eastern_long_neck_tortoise_-_chelodina_longicollis.jpg/200px-Eastern_long_neck_tortoise_-_chelodina_longicollis.jpg\"/>"
      ],
      "text/plain": [
       "<IPython.core.display.Image object>"
      ]
     },
     "metadata": {},
     "output_type": "display_data"
    },
    {
     "data": {
      "text/html": [
       "<img src=\"https://upload.wikimedia.org/wikipedia/commons/thumb/8/86/Pelomedusa_subrufa.JPG/200px-Pelomedusa_subrufa.JPG\"/>"
      ],
      "text/plain": [
       "<IPython.core.display.Image object>"
      ]
     },
     "metadata": {},
     "output_type": "display_data"
    },
    {
     "data": {
      "text/html": [
       "<img src=\"https://upload.wikimedia.org/wikipedia/commons/thumb/5/5b/Erymnochelys_madagascariensis.jpg/200px-Erymnochelys_madagascariensis.jpg\"/>"
      ],
      "text/plain": [
       "<IPython.core.display.Image object>"
      ]
     },
     "metadata": {},
     "output_type": "display_data"
    }
   ],
   "source": [
    "for url in turtle_list:\n",
    "    display(Image(url=url))"
   ]
  },
  {
   "cell_type": "code",
   "execution_count": 209,
   "metadata": {},
   "outputs": [],
   "source": [
    "import os\n",
    "import requests\n",
    "\n",
    "def save_images_from_urls(image_urls, output_folder):\n",
    "    os.makedirs(output_folder, exist_ok=True)  \n",
    "    \n",
    "    for url in image_urls:\n",
    "        response = requests.get(url)\n",
    "        print(response)\n",
    "        image_name = url.split('/')[-1]  \n",
    "        image_name = image_name.replace(\"200px-\", \"\")\n",
    "        print(\"Saving... \"+image_name)\n",
    "        with open(os.path.join(output_folder, image_name), \"wb\") as f:\n",
    "            f.write(response.content)\n"
   ]
  },
  {
   "cell_type": "code",
   "execution_count": 210,
   "metadata": {},
   "outputs": [
    {
     "name": "stdout",
     "output_type": "stream",
     "text": [
      "<Response [200]>\n",
      "Saving... Carettochelys_insculpta.jpg\n",
      "<Response [200]>\n",
      "Saving... GreenSeaTurtle-2.jpg\n",
      "<Response [200]>\n",
      "Saving... Alligator_snapping_turtle.jpg\n",
      "<Response [200]>\n",
      "Saving... Dermatemydidae.JPG\n",
      "<Response [200]>\n",
      "Saving... LeatherbackTurtle.jpg\n",
      "<Response [200]>\n",
      "Saving... Tortoise1_cepolina.jpg\n",
      "<Response [200]>\n",
      "Saving... Cuora_amboinensis_kamaroma_j.jpg\n",
      "<Response [200]>\n",
      "Saving... Sternotherus_odoratus.jpg\n",
      "<Response [200]>\n",
      "Saving... Zolw_wielkoglowy.jpg\n",
      "<Response [200]>\n",
      "Saving... Tortoise.aldabra.750pix.jpg\n",
      "<Response [200]>\n",
      "Saving... Apalone_spinifera.jpg\n",
      "<Response [200]>\n",
      "Saving... Eastern_long_neck_tortoise_-_chelodina_longicollis.jpg\n",
      "<Response [200]>\n",
      "Saving... Pelomedusa_subrufa.JPG\n",
      "<Response [200]>\n",
      "Saving... Erymnochelys_madagascariensis.jpg\n"
     ]
    }
   ],
   "source": [
    "output_folder = 'turtle images'\n",
    "\n",
    "save_images_from_urls(turtle_list, output_folder)"
   ]
  }
 ],
 "metadata": {
  "kernelspec": {
   "display_name": "webscraping",
   "language": "python",
   "name": "python3"
  },
  "language_info": {
   "codemirror_mode": {
    "name": "ipython",
    "version": 3
   },
   "file_extension": ".py",
   "mimetype": "text/x-python",
   "name": "python",
   "nbconvert_exporter": "python",
   "pygments_lexer": "ipython3",
   "version": "3.11.5"
  }
 },
 "nbformat": 4,
 "nbformat_minor": 2
}
